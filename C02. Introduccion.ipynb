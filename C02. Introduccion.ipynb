{
 "cells": [
  {
   "cell_type": "markdown",
   "id": "94eba24b",
   "metadata": {},
   "source": [
    "![imagenes](logo.png)"
   ]
  },
  {
   "cell_type": "markdown",
   "id": "7e2cd968",
   "metadata": {},
   "source": [
    "# Introducción\n",
    "\n",
    "**¿Qué es la Estadística?**\n",
    "\n",
    "Una disciplina que se ocupa de:\n",
    "\n",
    "- Recoger datos, y\n",
    "- hacer el análisis matemático de los datos recopilados con el propósito de **describir** los datos y hacer **inferencias** a partir de ellos.\n",
    "\n",
    "Por ejemplo:\n",
    "\n",
    "* **Datos de clientes:** quién comprará un producto y quién no.\n",
    "* **Datos de empleados:** el nivel medio de motivación laboral de los empleados.\n",
    "* **Datos de ganancias:** la desigualdad en los salarios.\n",
    "\n",
    "Supongamos que queremos saber qué motiva a un empleado. Piensa por un momento: ¿cuál es la razón por la cual en tu trabajo estás o no motivado?\n",
    "\n",
    "Muchas veces no respondemos estas preguntas honestamente por diversas razones, como *guardar las apariencias* o para no tener consecuencias. Por ejemplo, muchas veces la motivación puede depender de nuestra ganancia, pero en ocasiones no respondemos esto porque en diversas sociedades esta respuesta es considerada de mal gusto. \n",
    "\n",
    "En otros casos, nuestra motivación puede estar ligada a nuestro puesto de trabajo, y puede decrecer porque queremos que nos promuevan a un cargo directivo pero esa promoción la obtiene algún colega. En estos casos, no es cómodo responder que *no estamos motivados porque ascendieron a un compañero*.\n",
    "\n",
    "Una manera alternativa para hacer un mejor análisis de estas situaciones es recolectar datos acerca de las motivaciones de los empleados y construir predictores potenciales de motivación.\n",
    "\n",
    "## Población y muestra\n",
    "\n",
    "Para poder realizar estadísticas de manera correcta, debemos comprender qué es una población y qué es una muestra. La **población** es una *piscina completa formada por nuestros objetos de interés*. Y una **muestra** es es un subconjunto de dicha piscina.\n",
    "\n",
    "Así, si tienes una empresa *de tamaño moderado* y quieres conocer cuáles son las causas que los ayudan a motivarse, podrías hacer un **censo**. Es decir, un estudio que involucre a todos tus empleados, los cuales forman la población.\n",
    "\n",
    "Pero si quieres conocer cuáles son las causas que ayudan a motivar **a todos los empleados de la industria**, sería prácticamente imposible realizar un análisis con todos ellos, de modo que deberás restringirte a una muestra, donde la población son todos los empleados que laboran en dicha industria.\n",
    "\n",
    "Ahora bien, *lo que no puedes medir, no lo puedes mejorar*. Utilizamos el término *medida* para expresar un atributo, ya sea numérico o no, de cada una de las observaciones (elementos) de una población o una muestra.\n",
    "\n",
    "![imagenes](im001.png)"
   ]
  },
  {
   "cell_type": "markdown",
   "id": "c3bafc0c",
   "metadata": {},
   "source": [
    "Una **estadístico** es un resumen de la medida de los datos de una muestra. \n",
    "\n",
    "Un **parámetro poblacional** es el valor verdadero de esa medida calculado tomando toda la población.\n",
    "\n",
    "![imagenes](im002.png)\n",
    "\n",
    "El objetivo de la **Estadística** es aproximar, con cierto grado de confianza o certidumbre, un parámetro poblacional (o varios) a través de estadísticos."
   ]
  },
  {
   "cell_type": "markdown",
   "id": "db0fa565",
   "metadata": {},
   "source": [
    "## Dos tipos de Estadística\n",
    "\n",
    "Ya sabemos que el proceso del análisis estadístico consiste en la recolección de datos y la aplicación matemática como tal con el objetivo de describir la informacion y realizar inferencias. \n",
    "\n",
    "En este sentido, dividimos la Estadística en dos grandes áreas: Estadística Descriptiva y Estadística Inferencial.\n",
    "\n",
    "![imagenes](im003.png)"
   ]
  },
  {
   "cell_type": "markdown",
   "id": "43b13926",
   "metadata": {},
   "source": [
    "## ¿Qué son los datos?\n",
    "\n",
    "Los datos son valores numéricos o *hechos* que son recolectados y transformados con algún propósito. Como hemos dicho, muchas veces no podremos recolectarlos en toda nuestra población de interés, y únicamente en algunos elementos.\n",
    "\n",
    "Por otra parte, una observación es un elemento de nuestra muestra. Por ejemplo, en una muestra de 100 estudiantes, cada estudiante es una observación. Los datos recoletados en dicha muestra usualmente se acomodan en una tabla de información (dataframe)\n",
    "\n",
    "![imagenes](im004.png)\n",
    "\n",
    "### ¿Qué es una variable?\n",
    "\n",
    "Usualmente, en nuestras tablas cada observación está formada por un conjunto de *características*. Estas son lo que se conocen como variables (en cristiano: las columnas de la tabla). Una variable es una característica que describe el estado de la observación. Por lo tanto el valor de una variable cambia de observación en observación (es decir, renglón a renglón). Por ejemplo, si de los 100 estudiantes de una muestra obtenemos las edades, género, altura y peso.\n",
    "\n",
    "Es muy importante notar entonces que las tablas tienen tres partes fundamentales: las observaciones; las variables; y los datos. \n",
    "Este tecnicismo cobrará importancia más adelante.\n",
    "\n",
    "![imagenes](im005.png)"
   ]
  },
  {
   "cell_type": "markdown",
   "id": "4fd7ae13",
   "metadata": {},
   "source": [
    "## Tipos de variables\n",
    "\n",
    "A grandes rasgos, las variables se dividen en cuantitativas y cualitativas. Las cuantitativas se refieren a datos sobre medidas numéricas (conteos, porcentajes, números). En tanto las cualitativas, también llamadas categóricas, se tratan de medidas no numéricas pero clasificatorias, como el color, el sexo, o el país.\n",
    "\n",
    "Debemos tener muy presente la naturaleza de nuestros datos. Por ejemplo, las variables categóricas se pueden representar con números, pero no por eso se vuelven variables numéricas.\n",
    "\n",
    "Imagina un cliente: este puede ser o no atendido. Claramente esta variable es categórica Pero podemos representarla en nuestra tabla con un 0 o un 1, siendo 0 el estado de *no atendido* y 1 el estado de *atendido*. \n",
    "\n",
    "O incluso, podemos tener mas clases en una variable categórica. Piensa en una empresa donde los empleados tienen puesto de gerentes, supervisores o piso. De nuevo, esta es una variable cualitativa; no obstante podemos representar sus valores con números: 1 para piso, 2 para supervisor y 3 para gerente.\n",
    "\n",
    "Por parte, las variables cuantitativas también se pueden dividir en **discretas** y **continuas**. \n",
    "\n",
    "![imagenes](im006.png)"
   ]
  },
  {
   "cell_type": "markdown",
   "id": "bd619fef",
   "metadata": {},
   "source": [
    "## Tipología de Stevens\n",
    "\n",
    "Ya sabemos que las variables se puede dividir en cuantitativas y cualitativas. No obstante, las podemos dividir todavía más. La clasificación mas famosa es la de Stevens, publicada en 1946.\n",
    "\n",
    "![imagenes](im007.png)"
   ]
  },
  {
   "cell_type": "markdown",
   "id": "2792a1ad",
   "metadata": {},
   "source": [
    "### Datos nominales\n",
    "\n",
    "Se trata de variables cualitativas que clasifican los objetos en subgrupos donde, al representarlos de manera numérica, los números no tienen ningún significado. Por ejemplo, los colores, el género, el código postal, la matrícula de un estudiante, un tipo de virus.\n",
    "\n",
    "### Datos ordinales\n",
    "\n",
    "Se trata de variables cualitativas que clasifican los objetos en subgrupos donde, al representarlos de manera numérica, los números sí tienen ningún significado. Sin embargo, las *distancias* entre los valores no tienen ningún significado. Por ejemplo, la escala de Likert: Totalmente en desacuerdo, en desacuerdo, ni en desacuero ni deacuerdo, deacuerdo, muy deacuerdo. Estas clases se pueden representar con los números 1, 1.5, 2, 4, 7 y 8, respectivamente. Se entiende que si un número es menor que otro, entonces la clase que representa el menor es la clase más en desacuerdo; sin embargo, las restas 1.5-1,  7-4, 8-7,etc no tienen ningún significado.\n",
    "\n",
    "### Datos de intervalo\n",
    "\n",
    "Son datos de tipo cuantitativo. El orden de los números tienen un significado. Además las diferencias entre valores tienen significado, y diferencias iguales significan lo mismo.  Por ejemplo, la temperatura en $^\\circ$C o el tiempo del día: si un autobús pasa a las 17:45 el siguiente pasa a las 18:00pm, el siguiente pasa a las 18:10 y el siguiente pasa a las 18:25, entonces es claro que entre menor sea el dato, es porque el autobús pasó más temprano. Además las diferencias entre datos (por ejemplo, el dato de llegada del tercer autobús - el dato de llegada del segundo autobús) tiene un significado (tiempo de espera).\n",
    "\n",
    "Sin embargo, las proporciones no se cumplen. Por ejemplo, si un objeto está a 10$^\\circ$C y otro a 20$^\\circ$C, no es cierto que el segundo objeto esté al doble de temperatura que el primero. O bien, el siglo XX no es el doble del siglo X.  \n",
    "\n",
    "### Datos de cociente\n",
    "\n",
    "Se trata de datos cuantitavos. Suelen ser los más importantes. Aquí, el orden tiene significado; las diferencias tienen significado; y las proporciones tienen significado. Esto se debe a la **existencia de un cero absoluto**. Por cero absoluto, entendemos que existe un valor que representa ausencia de la característica.\n",
    "\n",
    "Por ejemplo, la temperatura en $^\\circ$K. Aquí, los $0^\\circ$K significan ausencia total de temperatura. Por lo tanto $20^\\circ$K si significan el doble de $10^\\circ$K. O el número de empleados de una empresa: si una empresa tiene 1000 empleados y otra empresa tiene 50 empleados, entonces la primera tiene 1000/50=20 veces más empleados.\n",
    "\n"
   ]
  },
  {
   "cell_type": "markdown",
   "id": "5ba17cb4",
   "metadata": {},
   "source": [
    "### En resumen\n",
    "\n",
    "| Característica                                      | Nominal | Ordinal | Intervalo | Ratio |\n",
    "|----------------------------------------------------|---------|---------|-----------|-------|\n",
    "| Hay un orden                                       | no      | sí      | sí        | sí    |\n",
    "| Miden frecuencias                                  | sí      | sí      | sí        | sí    |\n",
    "| Tienen moda                                        | sí      | sí      | sí        | sí    |\n",
    "| Tienen mediana                                     | no      | sí      | sí        | sí    |\n",
    "| Se puede cuantificar la diferencia entre dos valores | no      | no      | sí        | sí    |\n",
    "| Los valores se pueden sumar o restar              | no      | no      | sí        | sí    |\n",
    "| Las multiplicaciones tienen sentido               | no      | no      | no        | sí    |\n",
    "| Hay un cero absoluto                               | no      | no      | no        | sí    |\n",
    "\n",
    "\n",
    "Saber reconocer el tipo de datos con los que trabajamos nos va a facilitar la manera en que los representaremos. Es decir, el tipo de gráficas (y técnicas estadísticas) a utilizar."
   ]
  },
  {
   "cell_type": "markdown",
   "id": "a1ee6eb9",
   "metadata": {},
   "source": [
    "## Variables dependientes e independientes\n",
    "\n",
    "Muchas veces utilizamos el análisis estadístico para identificar relaciones cuasales entre variables. Es decir, ¿el comportamiento de una o varias variables incide, de alguna manera, en el comportamiento de otra? En cristiano: ¿el valor de una columna depende de los valores de otras?\n",
    "\n",
    "Cuando intentamos establecer relaciones de causa-efecto, realizaremos ciertas hipótesis. Cuando una de las variables no depende de los valores que toman otras, se dice que esta variable es independiente. En caso contrario, diremos que es una variable dependiente. Nota que las variables dependientes pueden depender de varias otras, y no solo de una.\n",
    "\n",
    "Por ejemplo, si en una empresa se contratan más trabajadores, es de esperarse que la producción sea afectada. Por lo tanto, la producción depende del número de empleados.\n",
    "\n",
    "Por cierto... otra forma de llamar a las variables independientes es **variables explicativas** o **variables predictoras**; en tanto que las dependientes también se conocen por **variables de respuesta** o **variables de salida**."
   ]
  }
 ],
 "metadata": {
  "kernelspec": {
   "display_name": "Python 3 (ipykernel)",
   "language": "python",
   "name": "python3"
  },
  "language_info": {
   "codemirror_mode": {
    "name": "ipython",
    "version": 3
   },
   "file_extension": ".py",
   "mimetype": "text/x-python",
   "name": "python",
   "nbconvert_exporter": "python",
   "pygments_lexer": "ipython3",
   "version": "3.11.4"
  }
 },
 "nbformat": 4,
 "nbformat_minor": 5
}
