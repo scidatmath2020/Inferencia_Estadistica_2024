{
 "cells": [
  {
   "cell_type": "markdown",
   "id": "5d2cecef",
   "metadata": {},
   "source": [
    "![imagenes](logo.png)"
   ]
  },
  {
   "cell_type": "markdown",
   "id": "1584849c",
   "metadata": {},
   "source": [
    "# Medidas de las variables aleatorias\n",
    "\n",
    "## Recordatorio:\n",
    "\n",
    "\n",
    "### Definición Matemática\n",
    "Una **variable aleatoria** es una función que asigna un número real a cada resultado de un experimento aleatorio. Se clasifica en:\n",
    "- **Discretas**: Toman valores específicos y contables. Ejemplo: número de caras al lanzar dos monedas.\n",
    "- **Continuas**: Toman cualquier valor dentro de un intervalo. Ejemplo: la altura de una persona.\n",
    "\n",
    "### Explicación Conceptual\n",
    "Imagina que estás realizando un experimento como lanzar un dado. Una variable aleatoria es una forma de traducir los posibles resultados de ese experimento (1, 2, 3, ...) en números que podamos analizar.\n",
    "\n",
    "### Ejemplo\n",
    "- **Variable Discreta**: Sea $X$ el número de caras al lanzar dos monedas. Los valores posibles de $X$ son $0$, $1$, o $2$.\n",
    "- **Variable Continua**: Sea $Y$ la temperatura diaria en tu ciudad. $Y$ puede tomar valores como $25.3^\\circ$C o $30.7^\\circ$C.\n",
    "\n",
    "---\n",
    "\n",
    "## Variables Aleatorias Independientes\n",
    "\n",
    "Decimos que dos variables son independientes si saber el resultado de una no te dice nada sobre la otra. Por ejemplo, lanzar un dado y lanzar una moneda son eventos independientes: el número del dado no afecta si sale cara o cruz.\n",
    "\n",
    "### Definición Matemática\n",
    "Dos variables aleatorias $X$ e $Y$ son **independientes** si:\n",
    "$$\n",
    "P(X \\leq x, Y \\leq y) = P(X \\leq x) \\cdot P(Y \\leq y)\n",
    "$$\n",
    "\n",
    "### Ejemplo\n",
    "Si $X$ es el resultado de lanzar un dado y $Y$ es el resultado de lanzar una moneda:\n",
    "$$\n",
    "P(X = 4 \\, \\text{y} \\, Y = \\text{cara}) = P(X = 4) \\cdot P(Y = \\text{cara}) = \\frac{1}{6} \\cdot \\frac{1}{2} = \\frac{1}{12}\n",
    "$$\n",
    "\n",
    "---\n",
    "\n",
    "## Esperanza Matemática\n",
    "\n",
    "La esperanza es el \"promedio esperado\" o el valor típico que obtendrías si repitieras el experimento muchas veces.\n",
    "\n",
    "### Definición Matemática\n",
    "La **esperanza matemática** (o valor esperado) de una variable aleatoria es:\n",
    "- Para una variable discreta:\n",
    "  $$\n",
    "  E[X] = \\sum_{x \\in \\text{Rango}(X)} x \\cdot P(X = x)\n",
    "  $$\n",
    "- Para una variable continua:\n",
    "  $$\n",
    "  E[X] = \\int_{-\\infty}^\\infty x \\cdot f_X(x) \\, dx\n",
    "  $$\n",
    "\n",
    "### Ejemplo\n",
    "Si $X$ es el número de caras al lanzar dos monedas:\n",
    "- $P(X = 0) = \\frac{1}{4}$, $P(X = 1) = \\frac{1}{2}$, $P(X = 2) = \\frac{1}{4}$.\n",
    "La esperanza es:\n",
    "$$\n",
    "E[X] = 0 \\cdot \\frac{1}{4} + 1 \\cdot \\frac{1}{2} + 2 \\cdot \\frac{1}{4} = 1\n",
    "$$\n",
    "\n",
    "Por lo tanto, si lanzamos muchas veces dos dados, esperaríamos que en la mayoría de las veces obtuvieramos una cara.\n",
    "\n",
    "---\n",
    "\n",
    "## Varianza y Desviación Estándar\n",
    "\n",
    "- La varianza mide cuánto se \"alejan\" los resultados del promedio. Si los valores están muy dispersos, la varianza será grande.\n",
    "- La desviación estándar es una medida más intuitiva de esa dispersión, ya que usa las mismas unidades que la variable.\n",
    "\n",
    "### Definición Matemática\n",
    "- La **varianza** mide qué tan dispersos están los valores de $X$ respecto a su promedio:\n",
    "  $$\n",
    "  \\text{Var}(X) = E[(X - E[X])^2] = E[X^2] - (E[X])^2\n",
    "  $$\n",
    "- La **desviación estándar** es la raíz cuadrada de la varianza:\n",
    "  $$\n",
    "  \\text{Desv}(X) = \\sqrt{\\text{Var}(X)}\n",
    "  $$\n",
    "\n",
    "### Ejemplo\n",
    "Para $X$ (caras en dos monedas), $E[X] = 1$:\n",
    "1. Calculamos $E[X^2]$:\n",
    "   $$\n",
    "   E[X^2] = 0^2 \\cdot \\frac{1}{4} + 1^2 \\cdot \\frac{1}{2} + 2^2 \\cdot \\frac{1}{4} = 1.5\n",
    "   $$\n",
    "2. La varianza es:\n",
    "   $$\n",
    "   \\text{Var}(X) = E[X^2] - (E[X])^2 = 1.5 - 1^2 = 0.5\n",
    "   $$\n",
    "3. La desviación estándar es:\n",
    "   $$\n",
    "   \\text{Desv}(X) = \\sqrt{0.5} \\approx 0.71\n",
    "   $$\n",
    "\n",
    "---\n",
    "\n",
    "## Covarianza\n",
    "\n",
    "La covarianza mide si dos variables tienden a aumentar o disminuir juntas:\n",
    "- **Positiva**: Cuando una sube, la otra también sube.\n",
    "- **Negativa**: Cuando una sube, la otra baja.\n",
    "- **Cero**: No hay relación lineal entre las variables.\n",
    "\n",
    "\n",
    "### Definición Matemática\n",
    "La **covarianza** entre dos variables $X$ e $Y$ es:\n",
    "$$\n",
    "\\text{Cov}(X, Y) = E[(X - E[X])(Y - E[Y])] = E[XY] - E[X]E[Y]\n",
    "$$\n",
    "\n",
    "### Ejemplo\n",
    "Si $X$ es el resultado de lanzar una moneda y $Y$ el resultado de lanzar un dado, entonces $X$ e $Y$ son independientes y por lo tanto no hay relación lineal entre las variables. Así:\n",
    "$$\n",
    "\\text{Cov}(X, Y) = E[XY] - E[X]E[Y] = 0\n",
    "$$\n",
    "\n",
    "---\n",
    "\n",
    "## Correlación\n",
    "\n",
    "- Una correlación cercana a $1$ indica una relación lineal fuerte y positiva.\n",
    "- Una correlación cercana a $-1$ indica una relación lineal fuerte y negativa.\n",
    "- Una correlación cercana a $0$ indica poca o ninguna relación lineal.\n",
    "\n",
    "### Definición Matemática\n",
    "La **correlación** estandariza la covarianza para que esté entre $-1$ y $1$:\n",
    "$$\n",
    "\\rho_{X,Y} = \\frac{\\text{Cov}(X, Y)}{\\text{Desv}(X) \\cdot \\text{Desv}(Y)}\n",
    "$$\n",
    "\n",
    "### Ejemplo\n",
    "Si $X$ es el tiempo dedicado a estudiar y $Y$ es la calificación obtenida:\n",
    "- Supongamos que $\\text{Cov}(X, Y) = 10$, $\\text{Desv}(X) = 2$, y $\\text{Desv}(Y) = 5$.\n",
    "La correlación es:\n",
    "$$\n",
    "\\rho_{X,Y} = \\frac{\\text{Cov}(X, Y)}{\\text{Desv}(X) \\cdot \\text{Desv}(Y)} = \\frac{10}{2 \\cdot 5} = 1\n",
    "$$\n",
    "Esto indica una relación perfecta y positiva.\n",
    "\n",
    "---\n",
    "\n",
    "## Resumen\n",
    "\n",
    "| Concepto           | Definición Matemática                                     | Explicación Simple                               | Ejemplo                     |\n",
    "|---------------------|----------------------------------------------------------|-------------------------------------------------|-----------------------------|\n",
    "| **Esperanza**       | $E[X] = \\sum x P(X = x)$ o $E[X] = \\int x f_X(x) dx$      | El promedio esperado.                           | $E[X] = 1$ para dos monedas.|\n",
    "| **Varianza**        | $\\text{Var}(X) = E[X^2] - (E[X])^2$                      | Qué tanto se desvían los valores del promedio. | $\\text{Var}(X) = 0.5$.      |\n",
    "| **Desviación**      | $\\text{Desv}(X) = \\sqrt{\\text{Var}(X)}$                  | Lo mismo que la varianza, pero más intuitivo.   | $\\text{Desv}(X) \\approx 0.71$. |\n",
    "| **Covarianza**      | $\\text{Cov}(X, Y) = E[XY] - E[X]E[Y]$                    | Mide si dos variables suben/bajan juntas.       | $\\text{Cov}(X, Y) = 0$.     |\n",
    "| **Correlación**     | $\\rho_{X,Y} = \\frac{\\text{Cov}(X, Y)}{\\text{Desv}(X) \\cdot \\text{Desv}(Y)}$ | Fuerza de la relación lineal.                  | $\\rho_{X,Y} = 1$.           |\n",
    "\n",
    "\n"
   ]
  },
  {
   "cell_type": "code",
   "execution_count": null,
   "id": "a93f9f50",
   "metadata": {},
   "outputs": [],
   "source": [
    "import pandas as pd\n",
    "import numpy as np\n",
    "from plotnine import *\n",
    "import scipy as sp\n",
    "\n",
    "caracteristicas = pd.read_csv(\"C:\\\\Users\\\\Usuario\\\\Documents\\\\scidata\\\\24_inf_est\\\\proyectos\\\\caracteristicas.csv\")\n",
    "caracteristicas"
   ]
  },
  {
   "cell_type": "code",
   "execution_count": null,
   "id": "9afaf23b",
   "metadata": {},
   "outputs": [],
   "source": [
    "sp.stats.pearsonr(caracteristicas[\"Caracteristica_1\"], caracteristicas[\"Caracteristica_2\"])[0]"
   ]
  },
  {
   "cell_type": "code",
   "execution_count": null,
   "id": "bb523b44",
   "metadata": {},
   "outputs": [],
   "source": [
    "ggplot(data=caracteristicas) + geom_point(mapping=aes(x=\"Caracteristica_1\",y=\"Caracteristica_2\"))"
   ]
  },
  {
   "cell_type": "code",
   "execution_count": null,
   "id": "f48ed065",
   "metadata": {},
   "outputs": [],
   "source": [
    "sp.stats.pearsonr(caracteristicas[\"Caracteristica_1\"], caracteristicas[\"Caracteristica_3\"])[0]"
   ]
  },
  {
   "cell_type": "code",
   "execution_count": null,
   "id": "fb418f52",
   "metadata": {},
   "outputs": [],
   "source": [
    "ggplot(data=caracteristicas) + geom_point(mapping=aes(x=\"Caracteristica_1\",y=\"Caracteristica_3\"))"
   ]
  },
  {
   "cell_type": "code",
   "execution_count": null,
   "id": "d74fad21",
   "metadata": {},
   "outputs": [],
   "source": [
    "sp.stats.pearsonr(caracteristicas[\"Caracteristica_1\"], caracteristicas[\"Caracteristica_4\"])[0]"
   ]
  },
  {
   "cell_type": "code",
   "execution_count": null,
   "id": "5778c34a",
   "metadata": {},
   "outputs": [],
   "source": [
    "ggplot(data=caracteristicas) + geom_point(mapping=aes(x=\"Caracteristica_1\",y=\"Caracteristica_4\"))"
   ]
  },
  {
   "cell_type": "code",
   "execution_count": null,
   "id": "80946d1c",
   "metadata": {},
   "outputs": [],
   "source": [
    "sp.stats.pearsonr(caracteristicas[\"Caracteristica_1\"], caracteristicas[\"Caracteristica_5\"])[0]"
   ]
  },
  {
   "cell_type": "code",
   "execution_count": null,
   "id": "2b6c4f8b",
   "metadata": {},
   "outputs": [],
   "source": [
    "ggplot(data=caracteristicas) + geom_point(mapping=aes(x=\"Caracteristica_1\",y=\"Caracteristica_5\"))"
   ]
  }
 ],
 "metadata": {
  "kernelspec": {
   "display_name": "Python 3 (ipykernel)",
   "language": "python",
   "name": "python3"
  },
  "language_info": {
   "codemirror_mode": {
    "name": "ipython",
    "version": 3
   },
   "file_extension": ".py",
   "mimetype": "text/x-python",
   "name": "python",
   "nbconvert_exporter": "python",
   "pygments_lexer": "ipython3",
   "version": "3.11.4"
  }
 },
 "nbformat": 4,
 "nbformat_minor": 5
}
