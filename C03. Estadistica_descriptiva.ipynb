{
 "cells": [
  {
   "cell_type": "markdown",
   "id": "cfe4f520",
   "metadata": {},
   "source": [
    "![imagenes](logo.png)"
   ]
  },
  {
   "cell_type": "markdown",
   "id": "a34e2273",
   "metadata": {},
   "source": [
    "# Estadística descriptiva\n",
    "\n",
    "La Estadística Descriptiva es el proceso de resumir la información mediante el uso de varias **métricas**. \n",
    "\n",
    "Como hemos dicho antes, usualmente nuestra información viene organizada por tablas de información. Sin embargo no siempre nos será sencillo hacernos de una idea general del fenómeno de estudio, o descubrir algunas características notables, únicamente viendo las tablas. Precisamente mediante la Estadístic Descriptiva podremos entender y explicar nuestros datos de manera eficiente.\n",
    "\n",
    "## Tablas de frecuencia\n",
    "\n",
    "Veamos qué es una tabla de frecuencias. Consideremos una tabla de 50 estudiantes, donde tenemos las calificaciones de cada uno. \n",
    "\n",
    "![imagenes](im008.png)\n"
   ]
  },
  {
   "cell_type": "markdown",
   "id": "5b45503a",
   "metadata": {},
   "source": [
    "Notemos que aún cuando se trata de una tabla pequeña (50 estudiantes), no es sencillo visualizarla. Por lo tanto necesitamos una manera de más eficiente de resumir nuestros datos y exhibirlos. Una manera de hacer esto es con una tabla de frecuencias. \n",
    "\n",
    "Una tabla de frecuencias es una tabla que divide los valores de una columna en algunas clases de cierto ancho y muestra cuántos elementos hay en cada una de dichas clases. Este número es llamado frecuencia. \n",
    "\n",
    "| Clase   | Etiqueta de clase | Frecuencia | Frecuencia relativa| Frecuencia relativa acumulada |\n",
    "|---------|-------------|-----------|--------------------|------------------------------|\n",
    "| 0-20    | 10          | 4         | 0.08               | 0.08                         |\n",
    "| 20-40   | 30          | 8         | 0.16               | 0.24                         |\n",
    "| 40-60   | 50          | 17        | 0.34               | 0.58                         |\n",
    "| 60-80   | 70          | 14        | 0.28               | 0.86                         |\n",
    "| 80-100  | 90          | 7         | 0.14               | 1.00                         |\n"
   ]
  },
  {
   "cell_type": "markdown",
   "id": "ec04c31d",
   "metadata": {},
   "source": [
    "Para construir una tabla de frecuencias en Python, puedes revisar el archivo https://github.com/scidatmath2020/Inferencia_Estadistica_2024/blob/main/scripts/tablas_de_frecuencia.py de nuestro repositorio."
   ]
  },
  {
   "cell_type": "markdown",
   "id": "fc85e0b7",
   "metadata": {},
   "source": [
    "Consideremos ahora la siguiente tabla, la cual se encuentra en nuestro repositorio: https://github.com/scidatmath2020/Inferencia_Estadistica_2024/blob/main/data/estadisticas_futbol.csv\n",
    "\n",
    "| País        | Goles marcados | Partidos ganados | Penales atajados | Zona|\n",
    "|-------------|----------------|------------------|------------------|-----|\n",
    "| Brasil      | 12             | 4                | 2                |SudA|\n",
    "| Argentina   | 10             | 3                | 1                |SudA|\n",
    "| Francia     | 15             | 5                | 3                |Euro|\n",
    "| Alemania    | 13             | 4                | 2                |Euro|\n",
    "| España      | 9              | 2                | 0                |Euro|\n",
    "| México      | 8              | 2                | 1                |Conca|\n",
    "| Italia      | 11             | 3                | 2                |Euro|\n",
    "| Inglaterra  | 10             | 3                | 1                |Euro|\n",
    "| Uruguay     | 7              | 1                | 1                |SudA|\n",
    "| Portugal    | 9              | 2                | 0                |Euro|\n"
   ]
  },
  {
   "cell_type": "code",
   "execution_count": null,
   "id": "4e65c642",
   "metadata": {},
   "outputs": [],
   "source": [
    "import pandas as pd\n",
    "import numpy as np\n",
    "from plotnine import *\n",
    "import os"
   ]
  },
  {
   "cell_type": "code",
   "execution_count": null,
   "id": "a85fdcf0",
   "metadata": {},
   "outputs": [],
   "source": [
    "futbol = pd.read_csv(\"C:/Users/Usuario/Documents/scidata/24_inf_est/proyectos/estadistica_futbol/estadisticas_futbol.csv\")\n",
    "futbol"
   ]
  },
  {
   "cell_type": "markdown",
   "id": "7b44ae6d",
   "metadata": {},
   "source": [
    "## Medidas de tendencia central\n",
    "\n",
    "En Estadística, todos los datos están distribuidos a través de varios puntos, que es lo que se conoce como la distribución de los datos.\n",
    "\n",
    "A partir de la distribución de los datos es muy complicado llegar a conclusiones, pues muchas veces corresponden a distribuciones demasiado complejas. Sin embargo, muchas veces existe una tendencia de los datos a juntarse al rededor de un cierto valor.\n",
    "\n",
    "Este valor es lo que se conoce como una tendencia central. De esta manera, la tendencia central es un representante global de los datos. En particular, representa las características generales del conjunto de datos.\n",
    "\n",
    "En primer lugar, estudiaremos las medidas de representación central de los datos, conocidas como **medidas de tendencia central**.\n",
    "\n",
    "### Media\n",
    "\n",
    "Esta se define como el promedio aritmético de los datos de la muestra o de la población en una característica medida (es decir, en una columna). Su valor tiene la siguiente interpretación: **si elijo una observación al azar, ya sea de la muestra o de la población, su valor en dicha característica se *espera* que sea cercano a la media aritmética**.\n",
    "\n",
    "\n",
    "Es decir, si tenemos una columna $X$ que toma valores $x_1,x_2,...,x_n$ en nuestra tabla, se denota por $\\overline{x}$ al valor promedio. Esto es: $$\\overline{x}=\\frac{x_1+x_2+...+x_n}{n}=\\frac{1}{n}\\sum_{i=1}^nx_i$$ donde $n$ es el tamaño de la muestra.\n",
    "\n",
    "Existe también la llamada media poblacional. Este sería el parámetro poblacional que representa al promedio. Si $x_1,x_2,...,X_N$ son toda la población (una población de tamaño $N$), su media poblacional se representa por $\\mu$ y viene dada por el promedio de los valores de toda la población: $$\\mu=\\frac{x_1+x_2+...+x_N}{N}=\\frac{1}{N}\\sum_{i=1}^Nx_i$$\n",
    "\n",
    "Recordemos que los parámetro poblacionales son, en general, desconocidos, de modo que utilizaremos $\\overline{x}$ como una aproximación de $\\mu$ (y posteriormente veremos qué tan buena es dicha aproximación)."
   ]
  },
  {
   "cell_type": "code",
   "execution_count": null,
   "id": "903b2690",
   "metadata": {},
   "outputs": [],
   "source": [
    "futbol[\"Goles_marcados\"].mean()"
   ]
  },
  {
   "cell_type": "code",
   "execution_count": null,
   "id": "a3dbd987",
   "metadata": {},
   "outputs": [],
   "source": [
    "futbol[\"Partidos_ganados\"].mean()"
   ]
  },
  {
   "cell_type": "code",
   "execution_count": null,
   "id": "18798d67",
   "metadata": {},
   "outputs": [],
   "source": [
    "observacion_aleatoria = futbol.sample(n=1)\n",
    "observacion_aleatoria"
   ]
  },
  {
   "cell_type": "markdown",
   "id": "fdd771b2",
   "metadata": {},
   "source": [
    "No obstante, una desventaja que presenta la media es que **es muy sensible a datos atípicos**. Para verlo, consideremos el siguiente ejemplo:"
   ]
  },
  {
   "cell_type": "code",
   "execution_count": null,
   "id": "df4f71eb",
   "metadata": {},
   "outputs": [],
   "source": [
    "datos = pd.DataFrame({\"valor\":[35,58,61,41,216,72,56,48,90,66]})\n",
    "datos[\"valor\"].mean()"
   ]
  },
  {
   "cell_type": "markdown",
   "id": "af3dbcef",
   "metadata": {},
   "source": [
    "Observamos que únicamente un valor es próximo a la media"
   ]
  },
  {
   "cell_type": "markdown",
   "id": "04598b2b",
   "metadata": {},
   "source": [
    "### Mediana\n",
    "\n",
    "Hagamos un vistazo gráfico a los datos anteriores:"
   ]
  },
  {
   "cell_type": "code",
   "execution_count": null,
   "id": "1864592f",
   "metadata": {},
   "outputs": [],
   "source": [
    "(ggplot(data=datos) + \n",
    "    geom_point(mapping=aes(x=\"valor\"),y=0) + \n",
    "    geom_vline(mapping=aes(xintercept=\"valor.mean()\"),color=\"red\") +\n",
    "    ylim(-0.01,0.01)\n",
    "    )"
   ]
  },
  {
   "cell_type": "markdown",
   "id": "0f0351b6",
   "metadata": {},
   "source": [
    "Observamos que la presencia del valor 216 altera fuertemente el resultado. Esto es lo que se conoce como datos atípicos. De no tenerlo, la media cambia sustancialmente:"
   ]
  },
  {
   "cell_type": "code",
   "execution_count": null,
   "id": "4a281589",
   "metadata": {},
   "outputs": [],
   "source": [
    "datos = pd.DataFrame({\"valor\":[35,58,61,41,72,56,48,90,66]})\n",
    "datos[\"valor\"].mean()"
   ]
  },
  {
   "cell_type": "code",
   "execution_count": null,
   "id": "67084617",
   "metadata": {},
   "outputs": [],
   "source": [
    "(ggplot(data=datos) + \n",
    "     geom_point(mapping=aes(x=\"valor\"),y=0) + \n",
    "     geom_vline(mapping=aes(xintercept=\"valor.mean()\"),color=\"red\") +\n",
    "     ylim(-0.01,0.01)\n",
    ")"
   ]
  },
  {
   "cell_type": "markdown",
   "id": "e40c5998",
   "metadata": {},
   "source": [
    "Ante estas situaciones, una alternativa para represantar los datos mediante un valor es la llamada **mediana**.\n",
    "\n",
    "La mediana es un valor que divide al total de datos de la columna en el 50% más alto y el 50% más bajo. Es decir, aquel valor que queda a la mitad aproximada de los datos cuando estos se ordenan de menor a mayor."
   ]
  },
  {
   "cell_type": "code",
   "execution_count": null,
   "id": "3ddb1f99",
   "metadata": {},
   "outputs": [],
   "source": [
    "futbol[\"Goles_marcados\"].sort_values()"
   ]
  },
  {
   "cell_type": "code",
   "execution_count": null,
   "id": "a2aa1b6a",
   "metadata": {},
   "outputs": [],
   "source": [
    "futbol[\"Goles_marcados\"].median()"
   ]
  },
  {
   "cell_type": "code",
   "execution_count": null,
   "id": "baac965b",
   "metadata": {},
   "outputs": [],
   "source": [
    "futbol[\"Partidos_ganados\"].sort_values()"
   ]
  },
  {
   "cell_type": "code",
   "execution_count": null,
   "id": "777f8a1a",
   "metadata": {},
   "outputs": [],
   "source": [
    "futbol[\"Partidos_ganados\"].median()"
   ]
  },
  {
   "cell_type": "markdown",
   "id": "ce4af5df",
   "metadata": {},
   "source": [
    "La mediana nos da una medida de la concentración de los datos.\n",
    "\n",
    "Por ejemplo, en México tenemos una población de 130,000,000. La edad mediana es de 29 años. Esto significa que 65,000,000 de habitantes tienen menos de 29 de años y el resto tiene 29 años o más. Pero la esperanza de vida es de 75 años.  Esto significa que hay más concentración en las edades jóvenes que en las mayores: de 0 a 29 años se distribuyen en 30 estaños; pero de 29 a 75 se distribuyen en 46 estaños."
   ]
  },
  {
   "cell_type": "markdown",
   "id": "6d578b6b",
   "metadata": {},
   "source": [
    "Además, la mediana no es tan sensible ante la presencia de atípicos:"
   ]
  },
  {
   "cell_type": "code",
   "execution_count": null,
   "id": "c0795b04",
   "metadata": {},
   "outputs": [],
   "source": [
    "datos = pd.DataFrame({\"valor\":[35,58,61,41,216,72,56,48,90,66]})\n",
    "datos[\"valor\"].median()"
   ]
  },
  {
   "cell_type": "code",
   "execution_count": null,
   "id": "7d17cd01",
   "metadata": {},
   "outputs": [],
   "source": [
    "(ggplot(data=datos) + \n",
    "     geom_point(mapping=aes(x=\"valor\"),y=0) + \n",
    "     geom_vline(mapping=aes(xintercept=\"valor.mean()\"),color=\"red\") +\n",
    "     geom_vline(mapping=aes(xintercept=\"valor.median()\"),color=\"blue\") +\n",
    "     ylim(-0.01,0.01)\n",
    ")"
   ]
  },
  {
   "cell_type": "markdown",
   "id": "b9da06ff",
   "metadata": {},
   "source": [
    "### Moda\n",
    "\n",
    "Notemos que la media y la mediana se alimentan de valores numéricos. En cuanto a variables categóricas, una manera de realizar un resumen de los datos es con la **moda**. Esta se define como el valor que más se repite."
   ]
  },
  {
   "cell_type": "code",
   "execution_count": null,
   "id": "4d58d344",
   "metadata": {},
   "outputs": [],
   "source": [
    "futbol[\"Partidos_ganados\"].mode()"
   ]
  },
  {
   "cell_type": "markdown",
   "id": "f7f42c2c",
   "metadata": {},
   "source": [
    "## Medidas de tendencia central en grupos con Python\n",
    "\n",
    "Ya hemos visto cómo calcular las medidas de tendencia central en Python para una columna fija. Ahora veamos para grupos:"
   ]
  },
  {
   "cell_type": "code",
   "execution_count": null,
   "id": "038c3ae9",
   "metadata": {},
   "outputs": [],
   "source": [
    "# Media en un grupo en una columna: tabla[tabla[\"columna de clases\"]==\"grupo requerido\"].columna_requerida.mean() \n",
    "futbol[futbol[\"Zona\"]==\"Euro\"].Goles_marcados.mean()"
   ]
  },
  {
   "cell_type": "code",
   "execution_count": null,
   "id": "d16c8f4b",
   "metadata": {},
   "outputs": [],
   "source": [
    "# Media en un grupo en algunas columnas:  \n",
    "futbol[[\"Goles_marcados\",\"Partidos_ganados\"]][futbol[\"Zona\"]==\"Euro\"].mean()"
   ]
  },
  {
   "cell_type": "code",
   "execution_count": null,
   "id": "635bdbcc",
   "metadata": {},
   "outputs": [],
   "source": [
    "# Media en un grupo en todas las columnas:\n",
    "futbol[futbol[\"Zona\"]==\"Euro\"].mean()"
   ]
  },
  {
   "cell_type": "code",
   "execution_count": null,
   "id": "d44964ae",
   "metadata": {},
   "outputs": [],
   "source": [
    "# Media en todos los grupos y una columna\n",
    "futbol.groupby(\"Zona\").Goles_marcados.mean()"
   ]
  },
  {
   "cell_type": "code",
   "execution_count": null,
   "id": "c985650b",
   "metadata": {},
   "outputs": [],
   "source": [
    "# Media en todos los grupos y algunas columnas\n",
    "futbol[[\"Goles_marcados\",\"Partidos_ganados\",\"Zona\"]].groupby(\"Zona\").mean()"
   ]
  },
  {
   "cell_type": "code",
   "execution_count": null,
   "id": "8b0b3e74",
   "metadata": {},
   "outputs": [],
   "source": [
    "# Media en todos los grupos y todas las columnas\n",
    "futbol.groupby(\"Zona\").mean()"
   ]
  }
 ],
 "metadata": {
  "kernelspec": {
   "display_name": "Python 3 (ipykernel)",
   "language": "python",
   "name": "python3"
  },
  "language_info": {
   "codemirror_mode": {
    "name": "ipython",
    "version": 3
   },
   "file_extension": ".py",
   "mimetype": "text/x-python",
   "name": "python",
   "nbconvert_exporter": "python",
   "pygments_lexer": "ipython3",
   "version": "3.11.4"
  }
 },
 "nbformat": 4,
 "nbformat_minor": 5
}
