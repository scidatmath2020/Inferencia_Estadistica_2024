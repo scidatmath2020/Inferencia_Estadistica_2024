{
 "cells": [
  {
   "cell_type": "markdown",
   "metadata": {},
   "source": [
    "<img src=\"logo.png\">"
   ]
  },
  {
   "cell_type": "markdown",
   "metadata": {},
   "source": [
    "# Vaya a las bases...\n",
    "\n",
    "A menudo se me acercan personas a hacerme preguntas sobre Machine Learning e Inteligencia Artificial. \n",
    "\n",
    "Muchas veces las preguntas tienen que ver con alguna técnica de última generación y un intento de utilizarla para resolver algún problema. Mi respuesta usual a esas personas comienza por decirles que no sé de esos temas y muy probablemente de ningún otro (eso es rigurosamente cierto), pero que con mucho gusto conversaré un poco con ellos.\n",
    "\n",
    "Mi conversación siempre continua de la misma manera: **Vaya a las bases, por favor**.  Entienda que la Ciencia de datos (que es el tema que seguramente le interesa) trata de convertir masas importantes de datos en información inteligible. No se trata de presentarse como un mago de los algoritmos ultra modernos.  \n",
    "\n",
    "*A la gerencia no le importa si usted es Albert Einstein o Marie Curie. Le interesan los billetes extra que saldrán de los resultados que usted le dé.* \n",
    "\n",
    "La tentación a utilizar una  \"red neuronal hiper-piripitifláutica-tri-convolucional-integro-diferencial-cuántica-relativista\" es natural, pues todos somos curiosos y entusiatas. Sin embargo, solo es eso: una tentanción y, en algunos casos, el seguimiento a una tendencia o a una moda.\n",
    "\n",
    "Antes de atacar un problema, mire la pregunta que usted quiere contestar y los datos de que dispone. Es muy factible que, luego de un análisis razonable, usted, que ha ido a las bases, note que lo que hace falta se reduce a un cálculo de probabilidades condicionales en el que muy seguramente es complicado establecer la independencia estadística de algunas de las variables. En ese caso, use un algoritmo naive Bayes y entregue los resultados a la gerencia; estoy seguro de que se lo agradeceran. \n",
    "\n",
    "Si el problema trata de predicción de fallas, quizá baste con obtener el número medio de fallas y utilizar una distribución de Poisson. \n",
    "\n",
    "El punto es: antes de empezar a pagar infinitos cursitos, busque un buén libro de probabilidades y estadística y entienda hasta donde llega el poder de la estadísitca estándar.\n",
    "\n",
    "No es necesario utilizar un misil termonuclear para matar una cucaracha; basta con un zapato.\n",
    "\n",
    "Obviamente, si el asunto trata de reconocer rostros, hacer deep learning o manejar un auto de manera autónoma se hace necesario usar otras herramientas y ahí le diré: salte de cabeza a aprender TensorFlow o PyTorch y entréguese a la investigación.\n",
    "\n",
    "Mario Iván Caicedo."
   ]
  }
 ],
 "metadata": {
  "kernelspec": {
   "display_name": "Python [conda env:base] *",
   "language": "python",
   "name": "conda-base-py"
  },
  "language_info": {
   "codemirror_mode": {
    "name": "ipython",
    "version": 3
   },
   "file_extension": ".py",
   "mimetype": "text/x-python",
   "name": "python",
   "nbconvert_exporter": "python",
   "pygments_lexer": "ipython3",
   "version": "3.12.7"
  }
 },
 "nbformat": 4,
 "nbformat_minor": 4
}
