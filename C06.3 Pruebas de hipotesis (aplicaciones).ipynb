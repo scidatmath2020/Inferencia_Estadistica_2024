{
 "cells": [
  {
   "cell_type": "markdown",
   "metadata": {},
   "source": [
    "![imagenes](logo.png)"
   ]
  },
  {
   "cell_type": "markdown",
   "metadata": {},
   "source": [
    "Ya hemos visto tres conceptos importantes asociados a los contrastes de hipótesis:\n",
    "\n",
    "* Estadístico de contraste\n",
    "* Nivel de significancia\n",
    "* $p$-valor\n",
    "\n",
    "De esta manera, si conocemos el nivel de significancia $\\alpha$, la decisión que tomemos se puede basar en:\n",
    "\n",
    "* **Región de rechazo:** si el estadístico de contraste cae dentro de una cierta región construída a partir de la significancia $\\alpha$, rechazamos $H_0$.\n",
    "* **El $p$-valor:** si el $p$-valor es mas pequeño que $\\alpha$, rechazamos $H_0$. Si el $p$-valor es mas grande que $\\alpha$, rechazamos $H_1$.\n",
    "\n",
    "En este caso, conviene basar la decisión en ambos criterios.\n",
    "\n",
    "Por otra parte, si no conocemos el nivel de significancia $\\alpha$, la decisión que tomemos se basará en el $p$-valor: si el $p$-valor es pequeño ($<0.05$), rechazamos $H_0$; si el $p$-valor es grande ($>0.1$), rechazamos $H_1$; si el $p$-valor está entre 0.05 y 0.1, se recomienda realizar mas estudios."
   ]
  },
  {
   "cell_type": "markdown",
   "metadata": {},
   "source": [
    "| Población   | Parámetro | $H_1$  | Desviación Poblacional | Estadístico de contraste                             | $p$-valor                                   | Región de rechazo                                    |\n",
    "|:-----------:|:---------:|:-------:|:----------:|:--------------------------------------------------:|:------------------------------------------:|:--------------------------------------------------:|\n",
    "| Norm o grande | $\\mu$    | $>\\mu_0$ | conocida   | $Z=\\frac{\\overline{X}-\\mu_0}{\\sigma/\\sqrt{n}}$       | $P(Z>z_0)$                                | $Z > z_{1-\\alpha}$                                |\n",
    "| Norm o grande | $\\mu$    | $<\\mu_0$ | conocida   | $Z=\\frac{\\overline{X}-\\mu_0}{\\sigma/\\sqrt{n}}$       | $P(Z<z_0)$                                | $Z < z_{\\alpha}$                                  |\n",
    "| Norm o grande | $\\mu$    | $\\neq\\mu_0$ | conocida | $Z=\\frac{\\overline{X}-\\mu_0}{\\sigma/\\sqrt{n}}$       | $2P(Z>\\mid z_0\\mid)$                      | $\\mid Z \\mid > z_{1-\\alpha/2}$                   |\n",
    "| Norm o grande | $\\mu$    | $>\\mu_0$ | desconocida| $T=\\frac{\\overline{X}-\\mu_0}{S/\\sqrt{n}}$            | $P(T>t_0)$                                | $T > t_{n-1,1-\\alpha}$                            |\n",
    "| Norm o grande | $\\mu$    | $<\\mu_0$ | desconocida| $T=\\frac{\\overline{X}-\\mu_0}{S/\\sqrt{n}}$            | $P(T<t_0)$                                | $T < t_{n-1,\\alpha}$                              |\n",
    "| Norm o grande | $\\mu$    | $\\neq\\mu_0$ | desconocida | $T=\\frac{\\overline{X}-\\mu_0}{S/\\sqrt{n}}$           | $2P(T>\\mid t_0\\mid)$                      | $\\mid T \\mid > t_{n-1,1-\\alpha/2}$               |\n",
    "| Pequeña      | $\\mu$    | $>\\mu_0$ | desconocida| $T=\\frac{\\overline{X}-\\mu_0}{S/\\sqrt{n}}$            | $P(T>t_0)$                                | $T > t_{n-1,1-\\alpha}$                            |\n",
    "| Pequeña      | $\\mu$    | $<\\mu_0$ | desconocida| $T=\\frac{\\overline{X}-\\mu_0}{S/\\sqrt{n}}$            | $P(T<t_0)$                                | $T < t_{n-1,\\alpha}$                              |\n",
    "| Pequeña      | $\\mu$    | $\\neq\\mu_0$ | desconocida | $T=\\frac{\\overline{X}-\\mu_0}{S/\\sqrt{n}}$           | $2P(T>\\mid t_0\\mid)$                      | $\\mid T \\mid > t_{n-1,1-\\alpha/2}$               |\n",
    "| No importa   | $p$      | $>p_0$   | No aplica  | $E=Bin(n,p_0)$                                      | $P(E\\ge x_0)$                              | $E \\ge x_0$                                      |\n",
    "| No importa   | $p$      | $<p_0$   | No aplica  | $E=Bin(n,p_0)$                                      | $P(E\\le x_0)$                              | $E \\le x_0$                                      |\n",
    "| No importa   | $p$      | $\\neq p_0$ | No aplica | $E=Bin(n,p_0)$                                      | $2\\min\\{P(E\\ge x_0),P(E\\le x_0)\\}$         | $E \\le x_0$ o $E \\ge x_0$                        |\n",
    "| Norm o grande       | $\\sigma^2$ | $>\\sigma_0^2$ | No aplica | $\\chi^2=\\frac{(n-1)S^2}{\\sigma_0^2}$                | $P(\\chi^2>\\chi^2_0)$                       | $\\chi^2 > \\chi^2_{1-\\alpha,n-1}$                 |\n",
    "| Norm o grande        | $\\sigma^2$ | $<\\sigma_0^2$ | No aplica | $\\chi^2=\\frac{(n-1)S^2}{\\sigma_0^2}$                | $P(\\chi^2<\\chi^2_0)$                       | $\\chi^2 < \\chi^2_{\\alpha,n-1}$                   |\n",
    "| Norm o grande        | $\\sigma^2$ | $\\neq\\sigma_0^2$ | No aplica | $\\chi^2=\\frac{(n-1)S^2}{\\sigma_0^2}$                | $2\\min\\{P(\\chi^2>\\chi^2_0),P(\\chi^2<\\chi^2_0)\\}$ | $\\chi^2 < \\chi^2_{\\alpha/2,n-1}$ o $\\chi^2 > \\chi^2_{1-\\alpha/2,n-1}$ |\n",
    "\n",
    "\n",
    "Y tenemos las decisiones:\n",
    "\n",
    "Criterio|Descripción|Decisión| Decision equivalente\n",
    ":--|:--|:--|:--\n",
    "Región de rechazo|Estadístico de contraste $\\in I$|Rechazar $H_0$| Aceptar $H_1$\n",
    "p-valor|$<\\alpha$ o pequeño|Rechazar $H_0$| Aceptar $H_1$"
   ]
  },
  {
   "cell_type": "markdown",
   "metadata": {},
   "source": [
    "## Pruebas de hipótesis en **Python**\n",
    "\n",
    "Como podrás imaginarte, los cálculos anteriores son poco prácticos para realizarlos \"manualmente\".\n",
    "\n",
    "En **Python**, no existen funciones predefinidas equivalentes directas a ``z.test`` (para medias), ``binom.test`` (para proporciones) y ``sigma.test`` (para desviaciones estándar) que se utilizan en **R**. Sin embargo, podemos implementar pruebas similares usando bibliotecas como ``scipy``, ``statsmodels`` y funciones básicas de Python. \n",
    "\n",
    "Parámetro poblacional|Desviación Poblacional|Muestra|Función\n",
    ":--:|:--:|:--:|:--\n",
    "media|conocida|gaussiana o grande| https://github.com/scidatmath2020/Inferencia_Estadistica_2024/blob/main/scripts/Pruebas%20de%20hipotesis/media_g_desv_conocida.py\n",
    "media|desconocida|gaussiana o grande|https://github.com/scidatmath2020/Inferencia_Estadistica_2024/blob/main/scripts/Pruebas%20de%20hipotesis/media_g_desv_desconocida.py\n",
    "media|desconocida|pequeña|https://github.com/scidatmath2020/Inferencia_Estadistica_2024/blob/main/scripts/Pruebas%20de%20hipotesis/media_g_desv_desconocida.py\n",
    "proporción|no aplica|no importa|https://github.com/scidatmath2020/Inferencia_Estadistica_2024/blob/main/scripts/Pruebas%20de%20hipotesis/proporcion.py\n",
    "varianza|no aplica|gaussiana o casi|https://github.com/scidatmath2020/Inferencia_Estadistica_2024/blob/main/scripts/Pruebas%20de%20hipotesis/varianza.py\n",
    "\n",
    "En cada en cada una de ellas, el parámetro ``alternative`` se selecciona de la siguiente manera:\n",
    "\n",
    "$H_1$|``alternative``\n",
    ":--:|:--:\n",
    "$\\theta>\\theta_0$|\"greater\"\n",
    "$\\theta<\\theta_0$|\"less\"\n",
    "$\\theta\\neq\\theta_0$|\"two-sided\"\n"
   ]
  },
  {
   "cell_type": "markdown",
   "metadata": {},
   "source": [
    "***\n",
    "***\n",
    "**Ejemplo 1.**\n",
    "\n",
    "A un productor se le ofrece un nutriente con el que obtendrá rendimientos medios superiores a 2.000 kg/ha, que es la producción usual de la zona. Se sabe que en esa población los rendimientos tienen un desvío estándar de 210 kg/ha y que la distribución de los rendimientos es gaussiana.\n",
    "\n",
    "El productor decide realizar una prueba sobre 9 parcelas, en las que pretende observar los rendimientos, promediarlos y de acuerdo al resultado optar o no por el nuevo producto: se acuerda correr un riesgo de rechazar el nutriente cuando en realidad éste cumple con las especificaciones promocionales, fijando para ello una probabilidad de error de 5%\n",
    "\n",
    "Los resultados de las 9 parcelas fueron los siguientes: 2150, 1950, 2170, 1860, 2050, 2120, 1920, 1850, 2230.\n",
    "\n",
    "¿Existe evidencia suficiente para decir que el nutriente aumenta los rendimientos?\n",
    "\n",
    "**Solución.**\n",
    "\n",
    "Es claro que $\\mu_0=2000$, $\\sigma=210$ y $\\alpha=0.05$. Ahora, recordemos la filosofía de las pruebas de hipótesis: se busca evidencia de que $H_1$ es verdadera. Por lo tanto, $H_1$ en este caso $H_1:\\mu>2000$ (es decir, los rendimientos promedios se van a mejorar). De esta manera, se plantea el test:\n",
    "\n",
    "$$\\left\\{\\begin{array}{l}H_0:\\mu\\le2000\\\\H_1:\\mu>2000\\end{array}\\right.$$ con $\\sigma$ conocida e igual a 210 y $\\alpha=0.05$:\n"
   ]
  },
  {
   "cell_type": "markdown",
   "metadata": {},
   "source": [
    "***\n",
    "***\n",
    "**Ejemplo 2**\n",
    "\n",
    "Se desea contrastar con un nivel del 5% la hipótesis de que la altura media de los hombres de 18 o más años de un país es menor a 180cm. Se desconoce la desviación poblacional de las alturas, y se toma una muestra de 15 hombres dando como resultado 168, 168, 169, 167, 171, 172, 182, 175, 177, 173, 168, 195, 167, 175, y 175 (cm). ¿Existe evidencia de que la altura media de los hombres mayores de edad de este país es menor a 180?\n",
    "\n",
    "**Solución.**\n",
    "\n",
    "Es claro que $\\mu_0=180$ y $\\alpha=0.05$. Ahora, recordemos la filosofía de las pruebas de hipótesis: se busca evidencia de que $H_1$ es verdadera. Por lo tanto, $H_1$ en este caso $H_1:\\mu<180$. De esta manera, se plantea el test:\n",
    "\n",
    "$$\\left\\{\\begin{array}{l}H_0:\\mu\\ge180\\\\H_1:\\mu<180\\end{array}\\right.$$ con $\\sigma$ desconocida y $\\alpha=0.05$:"
   ]
  },
  {
   "cell_type": "markdown",
   "metadata": {},
   "source": [
    "***\n",
    "***\n",
    "**Ejemplo 3.**\n",
    "\n",
    "En un estudio se afirma al menos 3 de cada 10 estudiantes universitarios trabajan. Pruebe esta aseveración, a un nivel de significación de 0.025, si una muestra aleatoria de 600 estudiantes universitarios revela que 200 de ellos trabajan.\n",
    "\n",
    "**Solución.**\n",
    "\n",
    "Es claro que $p_0=3/10=0.3$, $n=600$ y $x=200$, y $\\alpha=0.025$. Ahora, recordemos la filosofía de las pruebas de hipótesis: se busca evidencia de que $H_1$ es verdadera. Por lo tanto, $H_1$ en este caso es $H_1:p>0.3$ (es decir, al menos el 30% de los estudiantes universitarios trabajan). De esta manera, se plantea el test:\n",
    "\n",
    "$$\\left\\{\\begin{array}{l}H_0:p\\le0.3\\\\H_1:p>0.3\\end{array}\\right.$$ con $x=200$, $n=600$ y $\\alpha=0.025$"
   ]
  },
  {
   "cell_type": "markdown",
   "metadata": {},
   "source": [
    "***\n",
    "***\n",
    "**Ejemplo 4.**\n",
    "\n",
    "Un fabricante de baterías garantiza que su producto dura en promedio 2.5 años con una desviación estándar de al menos 0.8 años (es decir, $\\sigma>0.8$). Se sabe que la vida de uso de estas baterías sigue una distribución normal.\n",
    "\n",
    "Se toma una muestra aleatoria de 8 baterías y resultó que la duración de cada una fue 2.32, 4.26, 4.02, 4.44, 3.68, 2.72, 1.90, 1.21 (años).\n",
    "\n",
    "Con la evidencia tomada, ¿tiene razón el fabricante respecto a la desviación estándar poblacional? Utilice un 95% de confianza.\n",
    "\n",
    "**Solución.**\n",
    "\n",
    "Es claro que $\\sigma_0=0.8$ y $\\alpha=0.05$. Ahora, recordemos la filosofía de las pruebas de hipótesis: se busca evidencia de que $H_1$ es verdadera. Por lo tanto, $H_1$ en este caso es $H_1:\\sigma>0.8$ (es decir, la desviación de la duración de la batería en años no es 0.8). De esta manera, se plantea el test:\n",
    "\n",
    "$$\\left\\{\\begin{array}{l}H_0:\\sigma=0.8\\\\H_1:\\sigma>0.8\\end{array}\\right.$$ con $\\alpha=0.05$:\n",
    "***\n",
    "***"
   ]
  },
  {
   "cell_type": "markdown",
   "metadata": {},
   "source": [
    "**Ejemplo 5**\n",
    "\n",
    "Las etiquetas en latas de 1 galón de pintura por lo general indican el tiempo de secado y el area que puede cubrir una capa. Casi todas las marcas indican que en una capa, un galón cubrirá entre 250 y 500 ft2. Un fabricante afirma que un galón de su pintura cubrirá 400ft2. Para probar su afirmación se toma una muestra aleatoria de 10 pinturas. Las áreas cubiertas por cada pintura, en ft2, fueron 310, 311, 412, 368, 447, 376, 303, 410, 365, 350.\n",
    "\n",
    "¿Los datos son suficiente evidencia para indicar que el promedio de cobertura difiere de 400?\n",
    "\n",
    "**Solución.** Nos piden testear $H_1:\\,\\mu\\neq400$\n"
   ]
  },
  {
   "cell_type": "markdown",
   "metadata": {},
   "source": [
    "**Ejemplo 6**\n",
    "\n",
    "La producción diaria de una planta química ha promediado 880 ton en los últimos años. A la gerente de control de calidad le gustaría saber si este promedio ha cambiado en meses recientes. Selecciona 50 días de las base de datos y calcula el promedio y la desviación. Obtiene que el promedio es de 871 ton con una desviación muestral de 21. Pruebe la hipótesis apropiada usando $\\alpha = 0.05$\n",
    "\n",
    "**Solución.** Nos piden testear $H_1:\\, \\mu\\neq  880$"
   ]
  },
  {
   "cell_type": "markdown",
   "metadata": {},
   "source": [
    "### Deducción de la prueba de hipótesis unilateral para la media poblacional de una población gaussiana  con desviación conocida\n",
    "\n",
    "Sea $X$ una característica poblacional con distribución gaussiana, donde se desconoce la media $\\mu$ pero se conoce la desviación $\\sigma$. Fijemos $\\mu_0$ y consideremos el contraste \n",
    "\n",
    "$$\\left\\{\\begin{array}{l}H_0:\\mu=\\mu_0\\\\H_1:\\mu>\\mu_0\\end{array}\\right.$$\n",
    "\n",
    "con una significancia $\\alpha$. Tomemos una muestra aleatoria $X_1, X_2,...,X_n$ y definamos $Z$ como $Z=\\frac{\\overline{X}-\\mu_0}{\\sigma/\\sqrt{n}}$. Nota que si $H_0$ es verdadera, entonces $Z$ es una gaussiana con media 0 y desviación 1.\n",
    "\n",
    "Recordemos que buscamos evidencia de que $H_0$ no es verdadera, por lo cual si $\\overline{X}$, la media muestral, es \"bastante\" mas grande que $\\mu_0$, tendremos esa evidencia. En símbolos: si $\\overline{X}>A$ para un cierto valor $A$ apropiado, rechazaremos $H_0$. Como $Z=\\frac{\\overline{X}-\\mu_0}{\\sigma/\\sqrt(n)}$, esto equivale a $Z>A^\\prime$ para alguna $A^\\prime$. \n",
    "\n",
    "Ahora bien, la definición de $\\alpha$ nos dice $\\alpha=P(\\mbox{rechazar }H_0\\mbox{ siendo verdadera})$, de donde $\\alpha=P(Z>A^\\prime)$, así que $1-\\alpha=P(Z\\le A^\\prime)$, de modo que $A^\\prime$ es el cuantil $1-\\alpha$ de una normal estándar: $z_{1-\\alpha}$ (lo que en **R** se calcula como $A^\\prime$=``qnorm(1-alpha,1,0)``)\n",
    "\n",
    "De esta manera: **Rechazamos $H_0$ si $Z>z_{1-\\alpha}$**. Pero como $Z=\\frac{\\overline{X}-\\mu_0}{\\sigma/\\sqrt{n}}$, lo anterior equivale a $$\\overline{X}-z_{1-\\alpha}\\frac{\\sigma}{\\sqrt{n}}>\\mu_0$$\n",
    "\n",
    "Esto es: **Rechazamos $H_0$ si** $$\\mu_0\\in\\left(\\overline{X}-z_{1-\\alpha}\\frac{\\sigma}{\\sqrt{n}},\\infty\\right)$$\n"
   ]
  }
 ],
 "metadata": {
  "kernelspec": {
   "display_name": "Python [conda env:base] *",
   "language": "python",
   "name": "conda-base-py"
  },
  "language_info": {
   "codemirror_mode": {
    "name": "ipython",
    "version": 3
   },
   "file_extension": ".py",
   "mimetype": "text/x-python",
   "name": "python",
   "nbconvert_exporter": "python",
   "pygments_lexer": "ipython3",
   "version": "3.12.7"
  }
 },
 "nbformat": 4,
 "nbformat_minor": 4
}
