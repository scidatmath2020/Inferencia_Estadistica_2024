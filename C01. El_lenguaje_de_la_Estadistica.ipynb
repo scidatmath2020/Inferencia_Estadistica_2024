{
 "cells": [
  {
   "cell_type": "markdown",
   "id": "564bae48",
   "metadata": {},
   "source": [
    "![imagenes](logo.png)"
   ]
  },
  {
   "cell_type": "markdown",
   "id": "9d8f7cc9",
   "metadata": {},
   "source": [
    "# El lenguaje de la Estadística\n",
    "\n",
    "En Estadística, muchas veces decimos que *tenemos la seguridad de que algo sucedió o sucederá*. En realidad, frases de tipo absoluto como *con certeza* o *estamos seguros* son abusos de lenguaje. Cuando decimos que conocemos la verdad de un hecho, en realidad nos referimos a que tenemos cierta confianza en esa veracidad.\n",
    "\n",
    "1. **Previsión del clima**  \n",
    "   - Frase absoluta: *\"Mañana seguro llueve.\"*  \n",
    "   - Interpretación estadística: *\"Según el pronóstico, hay un 80% de probabilidad de que llueva mañana.\"*"
   ]
  },
  {
   "cell_type": "markdown",
   "id": "5cbf93e0",
   "metadata": {},
   "source": [
    "2. **Exámenes médicos**  \n",
    "   - Frase absoluta: *\"El médico me dijo que estoy completamente sano.\"*  \n",
    "   - Interpretación estadística: *\"Los resultados de los análisis sugieren que es muy probable que esté sano.\"*\n"
   ]
  },
  {
   "cell_type": "markdown",
   "id": "b32920ca",
   "metadata": {},
   "source": [
    "3. **Juegos de azar**  \n",
    "   - Frase absoluta: *\"Si compro este boleto, ganaré la lotería.\"*  \n",
    "   - Interpretación estadística: *\"Hay una posibilidad muy baja, pero no imposible, de ganar la lotería al comprar este boleto.\"*\n"
   ]
  },
  {
   "cell_type": "markdown",
   "id": "c547427a",
   "metadata": {},
   "source": [
    "4. **Resultados académicos**  \n",
    "   - Frase absoluta: *\"Estudié todo, seguro saco 10 en el examen.\"*  \n",
    "   - Interpretación estadística: *\"Estudié bien, pero hay factores como los nervios o preguntas inesperadas que pueden influir en mi calificación.\"*"
   ]
  },
  {
   "cell_type": "markdown",
   "id": "0b810383",
   "metadata": {},
   "source": [
    "5. **Tráfico diario**  \n",
    "   - Frase absoluta: *\"Siempre llego a tiempo al trabajo.\"*  \n",
    "   - Interpretación estadística: *\"Usualmente llego a tiempo porque hay un 90% de probabilidad de que el tráfico esté fluido a esa hora.\"*\n"
   ]
  },
  {
   "cell_type": "markdown",
   "id": "709fcfc8",
   "metadata": {},
   "source": [
    "En muchas ocasiones se realizan pruebas masivas con un alto nivel de fiabilidad para, por ejemplo, diagnosticar enfermedades o detectar criminales en un aeropuerto con identificación facial.\n",
    "\n",
    "Las probabilidades de que estos sistemas fallen son pequeñas, **pero eso no quiere decir que la probabilidad de acierto en cada caso sea alta.**\n",
    "\n",
    "**Si una prueba de cáncer da positiva, ¿realmente tengo cáncer?**\n",
    "\n",
    "Supongamos que una cierta variedad de cáncer tiene una *incidencia* de 1 en cada 10,000 personas de la población. Es decir, de cada 10,000 personas examinadas, esperamos que una tenga este cáncer.\n",
    "\n",
    "Tenemos una prueba diagnóstica muy fiable que es correcta el 99% de las veces.\n",
    "\n",
    "Un **falso negativo** sucede cuando una persona sí tiene el cáncer pero la prueba no lo detecta. Aproximadamente el 1% de las veces que apliquemos la prueba a alguien que sí lo tenga, la prueba fallará: nos dirá que no lo tiene.\n",
    "\n",
    "Un **falso positivo** sucede cuando una persona no tiene el cáncer pero la prueba dice que sí. Aproximadamente el 1% de las veces que apliquemos la prueba a alguien que no lo tenga, la prueba fallará: nos dirá que sí lo tiene.\n",
    "\n",
    "Tomemos 1,000,000 de personas y apliquemos la prueba. Una persona se realiza la prueba y obtiene positivo. La prueba, que es fiable al 99%, dice que tiene cáncer. Pero pensemos... **¿es casi seguro que tiene cáncer?**; **¿qué tan seguro?** ¿un 99%? ¿un 90%? ¿menos?\n",
    "\n",
    "Recordemos: una de cada 10,000 personas tiene cáncer; la prueba es 99% efectiva, y tenemos 1,000,000 de personas en la población. \n",
    "\n",
    "Bajo estas condiciones **las probabilidades de que una persona que ha recibido un resultado positivo, realmente tenga cáncer, son de menos del 1%**.\n",
    "\n",
    "Vamos a pensarlo así: tenemos 1,000,000 de personas. Luego, dado el dato de la incidencia, aproximadamente 100 de ellas tienen cáncer (y 999,900 no). \n",
    "\n",
    "Como la prueba es fiable al 99%, de las 100 personas que tienen cáncer, la prueba dará positiva en 99 ocasiones y habrá alguien enfermo a quien no detecte (un falso negativo). Y de las 999,900, la prueba será negativa en el 99% de los casos (o sea 989,901) y será positiva en el otro 1% de los casos. Es decir, hay 9,999 falsos positivos.\n",
    "\n",
    "Por lo tanto, hemos encontrado 99+9,999=10,098 positivos. En otras palabras, a 10,098 personas les hemos dicho que tienen cáncer. ¿Qué porcentaje de ellos es un positivo real?\n",
    "\n",
    "Como de entre los 10,098 positivos hay 99 que verdaderamente tienen cáncer, la respuesta es $\\frac{99}{10,098}$. Esto es aproximadamente 0.0098, o 0.98%. A esto se le conoce como **precisión**. \n",
    "\n",
    "O sea que de cada 100 personas que recibieron la carta, ¡solo una tiene de qué preocuparse!\n",
    "\n",
    "¿Eso significa que no sirve para nada?\n",
    "\n",
    "No; lo que nos está diciendo es que sirve para filtrar a la población y, probablemente, hace una segunda prueba más indicativa con menos población. \n",
    "\n",
    "Con los datos de nuestro ejemplo, si repetimos la prueba únicamente a quienes dieron positivos (verdaderos y falsos) para ratificar el resultado, la precisión pasa del 1% al 50%.\n",
    "\n",
    "El problema con nuestra prueba, y el por qué resulta tan antiintuitiva, son los datos: la incidencia es de solo 1 en cada 10,000. En una población grande, hay muchísima más población sin la enfermedad que con la enfermedad. \n",
    "\n",
    "Entonces, aunque la prueba es casi siempre correcta, el número total de falsos positivos es mucho mayor que el de verdaderos positivos. \n",
    "\n",
    "Este es un ejemplo de cómo debemos interpretar el lenguaje de la Estadística. \n",
    "\n"
   ]
  }
 ],
 "metadata": {
  "kernelspec": {
   "display_name": "Python 3 (ipykernel)",
   "language": "python",
   "name": "python3"
  },
  "language_info": {
   "codemirror_mode": {
    "name": "ipython",
    "version": 3
   },
   "file_extension": ".py",
   "mimetype": "text/x-python",
   "name": "python",
   "nbconvert_exporter": "python",
   "pygments_lexer": "ipython3",
   "version": "3.11.4"
  }
 },
 "nbformat": 4,
 "nbformat_minor": 5
}
