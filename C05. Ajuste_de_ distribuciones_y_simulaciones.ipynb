{
 "cells": [
  {
   "cell_type": "markdown",
   "metadata": {},
   "source": [
    "<img src=\"logo.png\">"
   ]
  },
  {
   "cell_type": "markdown",
   "metadata": {},
   "source": [
    "# Ajuste de distribuciones\n",
    "\n",
    "\n",
    "El **ajuste de distribuciones** se refiere a aplicar una o varias técnicas gráficas y analíticas para tener una idea aproximada sobre el tipo de variable aleatoria al que pertencen tus datos.\n",
    "\n",
    "Por ejemplo, si tus datos son de tipo discreto (como el año de nacimiento o el número de delitos cometidos mes a mes), entonces vale la pena preguntarse si tus datos provienen de una distribución de Bernoulli, binomial, poisson, geométrica, etc.\n",
    "\n",
    "Y si tus datos son de tipo continuo (como la velocidad de crecimiento de una población o el tiempo de espera entre la llegada de dos clientes a un restaurante), entonces nos preguntamos si los datos provienen de una gaussiana, una exponencial, una uniforme, etc.\n",
    "\n",
    "**Ejemplo.** \n",
    "\n",
    "Supongamos que tienes los datos del dataframe [ejemplo01](https://github.com/scidatmath2020/Inferencia_Estadistica_2024/blob/main/data/ejemplo_01.csv).\n",
    "\n",
    "Digamos que esos datos provienen de una variable aleatoria $X$. Es decir, tomamos una muestra de tamaño 100 de cierta población de estudio y hemos tomado la medida de cierta característica $X$ de esa población.\n",
    "\n",
    "Mostramos el histograma junto con la densidad de esta muestra. A la densidad mostrada se le conoce como **densidad empírica.**\n",
    "\n",
    "<img src=\"im012.png\">"
   ]
  },
  {
   "cell_type": "markdown",
   "metadata": {},
   "source": [
    "Uno bien puede preguntarse, ¿cuál es la probabilidad de que el valor de la característica $X$ de un individuo tomado al azar sea menor a 2.25?\n",
    "\n",
    "O en otras palabras, **¿qué porcentaje de los individuos de la población cumplen que el valor de su característica $X$ es menor que 2.25?**\n",
    "\n",
    "Sabemos que el histograma nos indica que mida las alturas de cada uno de los primeros 5 rectángulos. Sin embargo, **recuerda que ese histograma únicamente corresponde con una muestra de tamaño 100 de nuestra población**, por lo cual la respuesta dada por este método de medir alturas no tiene por qué ser buena. \n",
    "\n",
    "Pero peor aún: **el uso de densidad empírica conlleva un sobreajuste de los datos**. Por ejemplo, si los datos realmente provienen de una gaussiana pero tienes varios atípicos, la densidad empírica puede no parecerse a una gaussiana.\n",
    "\n",
    "Es por ello que necesitamos establecer la verdadera densidad a la que se ajusten casi todas las muestras posibles. Esta densidad es lo que se conoce como **densidad teórica**."
   ]
  },
  {
   "cell_type": "markdown",
   "metadata": {},
   "source": [
    "De esta manera, podemos decir que el ajuste de distribuciones son las técnicas estadísticas que permiten, a través de las densidades empíricas, conocer aproximadamente a la densidad teórica."
   ]
  },
  {
   "cell_type": "markdown",
   "metadata": {},
   "source": [
    "## Proceso para ajustar distribuciones\n",
    "\n",
    "Básicamente se aplican tres pasos:\n",
    "\n",
    "1. Observar la forma de los datos (gráficas).\n",
    "\n",
    "2. Ajustar los datos con los tipos de distribuciones que tu intuición te indique basado en el paso anterior.\n",
    "\n",
    "3. Verificar cuál de los modelos se ajustó mejor.\n",
    "\n",
    "Ahora bien, es importante tomar en cuenta que **no todos los datos corresponden a una distribución \"famosa\" o sencilla**. El proceso de ajuste de distribuciones es más un arte que una ciencia. Este proceso depende mucho de la interpretación del investigador así como de su experiencia y **perseverancia** en el sentido de tener que buscar y buscar entre las distribuciones posibles hasta encontrar una que se ajuste al modelo."
   ]
  },
  {
   "cell_type": "markdown",
   "metadata": {},
   "source": [
    "En **Python** contamos con la paquetería ``distfit`` que nos ayudan a realizar ajustes de distribuciones."
   ]
  },
  {
   "cell_type": "markdown",
   "metadata": {},
   "source": [
    "**Ejemplo.**\n",
    "\n",
    "Consideremos la tabla [ejemplo_02.csv](https://github.com/scidatmath2020/Inferencia_Estadistica_2024/blob/main/data/ejemplo_02.csv).\n",
    "\n"
   ]
  },
  {
   "cell_type": "markdown",
   "metadata": {},
   "source": [
    "# Simulaciones\n",
    "\n",
    "Es momento de poner en práctica buena parte de lo aprendido hasta el momento. \n",
    "\n",
    "Dado un conjunto de datos, hacer simulación es extraer información de ese conjunto de datos para poderla *repetir* mediante la computadora y tener una buena aproximación de la realidad.  "
   ]
  }
 ],
 "metadata": {
  "kernelspec": {
   "display_name": "Python [conda env:base] *",
   "language": "python",
   "name": "conda-base-py"
  },
  "language_info": {
   "codemirror_mode": {
    "name": "ipython",
    "version": 3
   },
   "file_extension": ".py",
   "mimetype": "text/x-python",
   "name": "python",
   "nbconvert_exporter": "python",
   "pygments_lexer": "ipython3",
   "version": "3.12.7"
  }
 },
 "nbformat": 4,
 "nbformat_minor": 4
}
